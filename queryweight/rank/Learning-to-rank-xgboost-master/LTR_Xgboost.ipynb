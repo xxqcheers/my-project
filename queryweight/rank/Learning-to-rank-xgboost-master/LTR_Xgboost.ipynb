{
 "cells": [
  {
   "cell_type": "code",
   "execution_count": 1,
   "metadata": {},
   "outputs": [],
   "source": [
    "import xgboost as xgb\n",
    "import matplotlib as plt\n",
    "from sklearn import metrics, model_selection\n",
    "from xgboost.sklearn import XGBClassifier\n",
    "from xgboost import DMatrix\n",
    "from sklearn.datasets import load_svmlight_file\n",
    "from sklearn.datasets import dump_svmlight_file\n",
    "from sklearn.model_selection import train_test_split\n",
    "import pandas as pd\n",
    "import numpy as np\n",
    "from graphviz import Digraph\n",
    "from matplotlib import pyplot"
   ]
  },
  {
   "cell_type": "code",
   "execution_count": 2,
   "metadata": {},
   "outputs": [],
   "source": [
    "data = open(\"/Users/apple/Downloads/libsvm_0_8400\", 'r')\n",
    "\n",
    "# converting data into readable fomat\n",
    "dataread = data.readlines()\n",
    "\n",
    "# creating files for training and test spliting \n",
    "data_train = open(\"/Users/apple/Downloads/libsvm15-train-8400.txt\", 'w')\n",
    "data_test = open(\"/Users/apple/Downloads/libsvm15-test-8400.txt\", 'w')\n",
    "\n",
    "# spliting dataset into test and training\n",
    "\n",
    "data_train_out = []\n",
    "data_test_out = []\n",
    "\n",
    "for line in range(0, int(len(dataread)*0.8)):\n",
    "    data_train_out.append(dataread[line])\n",
    "for line in range(int(len(dataread)*0.8), len(dataread)):\n",
    "    data_test_out.append(dataread[line])\n",
    "\n",
    "for item in data_train_out:\n",
    "    data_train.write(item)\n",
    "\n",
    "for item in data_test_out:\n",
    "    data_test.write(item)\n",
    "data_train.close()\n",
    "data_test.close()"
   ]
  },
  {
   "cell_type": "code",
   "execution_count": 3,
   "metadata": {},
   "outputs": [
    {
     "name": "stdout",
     "output_type": "stream",
     "text": [
      "[12:03:53] 3302629x47 matrix with 151920934 entries loaded from /Users/apple/Downloads/libsvm15-train-8400.txt\n",
      "[12:03:54] 825658x47 matrix with 37980268 entries loaded from /Users/apple/Downloads/libsvm15-test-8400.txt\n"
     ]
    }
   ],
   "source": [
    "train = xgb.DMatrix(\"/Users/apple/Downloads/libsvm15-train-8400.txt\")\n",
    "\n",
    "test = xgb.DMatrix(\"/Users/apple/Downloads/libsvm15-test-8400.txt\")"
   ]
  },
  {
   "cell_type": "code",
   "execution_count": 5,
   "metadata": {},
   "outputs": [
    {
     "name": "stdout",
     "output_type": "stream",
     "text": [
      "[0]\ttrain-ndcg@1:0.499621\ttrain-ndcg@5:0.601542\ttrain-ndcg@10:0.634393\ttrain-ndcg@20:0.656411\ttrain-ndcg@50:0.67251\ttrain-ndcg@100:0.678737\ttest-ndcg@1:0.475182\ttest-ndcg@5:0.581162\ttest-ndcg@10:0.615696\ttest-ndcg@20:0.638997\ttest-ndcg@50:0.656761\ttest-ndcg@100:0.66252\n",
      "[1]\ttrain-ndcg@1:0.507501\ttrain-ndcg@5:0.617818\ttrain-ndcg@10:0.648449\ttrain-ndcg@20:0.670023\ttrain-ndcg@50:0.68446\ttrain-ndcg@100:0.690271\ttest-ndcg@1:0.483051\ttest-ndcg@5:0.593566\ttest-ndcg@10:0.630151\ttest-ndcg@20:0.65464\ttest-ndcg@50:0.667865\ttest-ndcg@100:0.673294\n",
      "[2]\ttrain-ndcg@1:0.51129\ttrain-ndcg@5:0.620437\ttrain-ndcg@10:0.650754\ttrain-ndcg@20:0.67281\ttrain-ndcg@50:0.686876\ttrain-ndcg@100:0.692653\ttest-ndcg@1:0.489709\ttest-ndcg@5:0.595096\ttest-ndcg@10:0.631211\ttest-ndcg@20:0.655986\ttest-ndcg@50:0.671158\ttest-ndcg@100:0.676456\n",
      "[3]\ttrain-ndcg@1:0.514169\ttrain-ndcg@5:0.624488\ttrain-ndcg@10:0.656079\ttrain-ndcg@20:0.677354\ttrain-ndcg@50:0.691255\ttrain-ndcg@100:0.696785\ttest-ndcg@1:0.49092\ttest-ndcg@5:0.59781\ttest-ndcg@10:0.635038\ttest-ndcg@20:0.659688\ttest-ndcg@50:0.674601\ttest-ndcg@100:0.67997\n",
      "[4]\ttrain-ndcg@1:0.514472\ttrain-ndcg@5:0.62439\ttrain-ndcg@10:0.656628\ttrain-ndcg@20:0.678322\ttrain-ndcg@50:0.691665\ttrain-ndcg@100:0.697289\ttest-ndcg@1:0.492131\ttest-ndcg@5:0.600833\ttest-ndcg@10:0.636739\ttest-ndcg@20:0.661158\ttest-ndcg@50:0.676193\ttest-ndcg@100:0.681353\n",
      "[5]\ttrain-ndcg@1:0.522352\ttrain-ndcg@5:0.629443\ttrain-ndcg@10:0.661551\ttrain-ndcg@20:0.682705\ttrain-ndcg@50:0.695789\ttrain-ndcg@100:0.70168\ttest-ndcg@1:0.495157\ttest-ndcg@5:0.605941\ttest-ndcg@10:0.640854\ttest-ndcg@20:0.664885\ttest-ndcg@50:0.679472\ttest-ndcg@100:0.685034\n",
      "[6]\ttrain-ndcg@1:0.522655\ttrain-ndcg@5:0.629239\ttrain-ndcg@10:0.66165\ttrain-ndcg@20:0.683124\ttrain-ndcg@50:0.696108\ttrain-ndcg@100:0.701568\ttest-ndcg@1:0.495157\ttest-ndcg@5:0.606129\ttest-ndcg@10:0.640543\ttest-ndcg@20:0.664873\ttest-ndcg@50:0.679638\ttest-ndcg@100:0.685246\n",
      "[7]\ttrain-ndcg@1:0.523413\ttrain-ndcg@5:0.629552\ttrain-ndcg@10:0.662566\ttrain-ndcg@20:0.683831\ttrain-ndcg@50:0.69684\ttrain-ndcg@100:0.702307\ttest-ndcg@1:0.495763\ttest-ndcg@5:0.606828\ttest-ndcg@10:0.642422\ttest-ndcg@20:0.66606\ttest-ndcg@50:0.680645\ttest-ndcg@100:0.686274\n",
      "[8]\ttrain-ndcg@1:0.520988\ttrain-ndcg@5:0.629254\ttrain-ndcg@10:0.662828\ttrain-ndcg@20:0.683878\ttrain-ndcg@50:0.69678\ttrain-ndcg@100:0.701963\ttest-ndcg@1:0.499395\ttest-ndcg@5:0.608425\ttest-ndcg@10:0.64596\ttest-ndcg@20:0.669572\ttest-ndcg@50:0.682784\ttest-ndcg@100:0.688758\n",
      "[9]\ttrain-ndcg@1:0.522352\ttrain-ndcg@5:0.630349\ttrain-ndcg@10:0.663859\ttrain-ndcg@20:0.685347\ttrain-ndcg@50:0.698138\ttrain-ndcg@100:0.703232\ttest-ndcg@1:0.499395\ttest-ndcg@5:0.610898\ttest-ndcg@10:0.648017\ttest-ndcg@20:0.671253\ttest-ndcg@50:0.685234\ttest-ndcg@100:0.690557\n",
      "[10]\ttrain-ndcg@1:0.522049\ttrain-ndcg@5:0.630391\ttrain-ndcg@10:0.663646\ttrain-ndcg@20:0.68525\ttrain-ndcg@50:0.698386\ttrain-ndcg@100:0.703351\ttest-ndcg@1:0.499395\ttest-ndcg@5:0.612046\ttest-ndcg@10:0.649371\ttest-ndcg@20:0.672385\ttest-ndcg@50:0.685982\ttest-ndcg@100:0.691109\n",
      "[11]\ttrain-ndcg@1:0.521443\ttrain-ndcg@5:0.630227\ttrain-ndcg@10:0.663647\ttrain-ndcg@20:0.685111\ttrain-ndcg@50:0.69818\ttrain-ndcg@100:0.703178\ttest-ndcg@1:0.498789\ttest-ndcg@5:0.6119\ttest-ndcg@10:0.648548\ttest-ndcg@20:0.671883\ttest-ndcg@50:0.685877\ttest-ndcg@100:0.690801\n",
      "[12]\ttrain-ndcg@1:0.522049\ttrain-ndcg@5:0.629835\ttrain-ndcg@10:0.663795\ttrain-ndcg@20:0.684919\ttrain-ndcg@50:0.698237\ttrain-ndcg@100:0.703377\ttest-ndcg@1:0.495763\ttest-ndcg@5:0.611026\ttest-ndcg@10:0.648308\ttest-ndcg@20:0.671523\ttest-ndcg@50:0.685271\ttest-ndcg@100:0.690327\n",
      "[13]\ttrain-ndcg@1:0.519776\ttrain-ndcg@5:0.62878\ttrain-ndcg@10:0.663034\ttrain-ndcg@20:0.684397\ttrain-ndcg@50:0.697597\ttrain-ndcg@100:0.702732\ttest-ndcg@1:0.493341\ttest-ndcg@5:0.609761\ttest-ndcg@10:0.647031\ttest-ndcg@20:0.670371\ttest-ndcg@50:0.683788\ttest-ndcg@100:0.689065\n",
      "[14]\ttrain-ndcg@1:0.519473\ttrain-ndcg@5:0.628719\ttrain-ndcg@10:0.662917\ttrain-ndcg@20:0.684219\ttrain-ndcg@50:0.697694\ttrain-ndcg@100:0.702815\ttest-ndcg@1:0.494552\ttest-ndcg@5:0.609735\ttest-ndcg@10:0.647277\ttest-ndcg@20:0.670503\ttest-ndcg@50:0.684358\ttest-ndcg@100:0.689322\n",
      "[15]\ttrain-ndcg@1:0.520533\ttrain-ndcg@5:0.632123\ttrain-ndcg@10:0.666022\ttrain-ndcg@20:0.686377\ttrain-ndcg@50:0.699684\ttrain-ndcg@100:0.704736\ttest-ndcg@1:0.484867\ttest-ndcg@5:0.60415\ttest-ndcg@10:0.641043\ttest-ndcg@20:0.66466\ttest-ndcg@50:0.678585\ttest-ndcg@100:0.683478\n",
      "[16]\ttrain-ndcg@1:0.521594\ttrain-ndcg@5:0.632613\ttrain-ndcg@10:0.6674\ttrain-ndcg@20:0.687058\ttrain-ndcg@50:0.700428\ttrain-ndcg@100:0.705532\ttest-ndcg@1:0.486077\ttest-ndcg@5:0.604555\ttest-ndcg@10:0.64252\ttest-ndcg@20:0.665443\ttest-ndcg@50:0.679175\ttest-ndcg@100:0.684238\n",
      "[17]\ttrain-ndcg@1:0.522049\ttrain-ndcg@5:0.634603\ttrain-ndcg@10:0.668321\ttrain-ndcg@20:0.688\ttrain-ndcg@50:0.701223\ttrain-ndcg@100:0.706264\ttest-ndcg@1:0.489104\ttest-ndcg@5:0.605476\ttest-ndcg@10:0.643634\ttest-ndcg@20:0.666545\ttest-ndcg@50:0.680372\ttest-ndcg@100:0.685413\n",
      "[18]\ttrain-ndcg@1:0.525534\ttrain-ndcg@5:0.637107\ttrain-ndcg@10:0.670793\ttrain-ndcg@20:0.69047\ttrain-ndcg@50:0.703245\ttrain-ndcg@100:0.708171\ttest-ndcg@1:0.491525\ttest-ndcg@5:0.607679\ttest-ndcg@10:0.645488\ttest-ndcg@20:0.668956\ttest-ndcg@50:0.682101\ttest-ndcg@100:0.687013\n",
      "[19]\ttrain-ndcg@1:0.529171\ttrain-ndcg@5:0.640206\ttrain-ndcg@10:0.673142\ttrain-ndcg@20:0.692609\ttrain-ndcg@50:0.705362\ttrain-ndcg@100:0.710283\ttest-ndcg@1:0.494552\ttest-ndcg@5:0.611986\ttest-ndcg@10:0.648655\ttest-ndcg@20:0.671183\ttest-ndcg@50:0.684562\ttest-ndcg@100:0.689671\n",
      "[20]\ttrain-ndcg@1:0.529777\ttrain-ndcg@5:0.641386\ttrain-ndcg@10:0.67364\ttrain-ndcg@20:0.693324\ttrain-ndcg@50:0.706179\ttrain-ndcg@100:0.710906\ttest-ndcg@1:0.497579\ttest-ndcg@5:0.613877\ttest-ndcg@10:0.650227\ttest-ndcg@20:0.672848\ttest-ndcg@50:0.686405\ttest-ndcg@100:0.691029\n",
      "[21]\ttrain-ndcg@1:0.532202\ttrain-ndcg@5:0.642988\ttrain-ndcg@10:0.675339\ttrain-ndcg@20:0.694928\ttrain-ndcg@50:0.707375\ttrain-ndcg@100:0.712261\ttest-ndcg@1:0.497579\ttest-ndcg@5:0.615458\ttest-ndcg@10:0.651454\ttest-ndcg@20:0.673998\ttest-ndcg@50:0.687525\ttest-ndcg@100:0.692243\n",
      "[22]\ttrain-ndcg@1:0.53402\ttrain-ndcg@5:0.645542\ttrain-ndcg@10:0.678061\ttrain-ndcg@20:0.697321\ttrain-ndcg@50:0.709714\ttrain-ndcg@100:0.714259\ttest-ndcg@1:0.505448\ttest-ndcg@5:0.621488\ttest-ndcg@10:0.656608\ttest-ndcg@20:0.678423\ttest-ndcg@50:0.691931\ttest-ndcg@100:0.696778\n",
      "[23]\ttrain-ndcg@1:0.534626\ttrain-ndcg@5:0.645917\ttrain-ndcg@10:0.678643\ttrain-ndcg@20:0.698077\ttrain-ndcg@50:0.710311\ttrain-ndcg@100:0.714902\ttest-ndcg@1:0.503632\ttest-ndcg@5:0.621889\ttest-ndcg@10:0.657526\ttest-ndcg@20:0.678878\ttest-ndcg@50:0.69262\ttest-ndcg@100:0.697413\n",
      "[24]\ttrain-ndcg@1:0.535687\ttrain-ndcg@5:0.646981\ttrain-ndcg@10:0.679533\ttrain-ndcg@20:0.699111\ttrain-ndcg@50:0.711222\ttrain-ndcg@100:0.715849\ttest-ndcg@1:0.500605\ttest-ndcg@5:0.620885\ttest-ndcg@10:0.65605\ttest-ndcg@20:0.677838\ttest-ndcg@50:0.691583\ttest-ndcg@100:0.696015\n",
      "[25]\ttrain-ndcg@1:0.5369\ttrain-ndcg@5:0.64908\ttrain-ndcg@10:0.681391\ttrain-ndcg@20:0.700443\ttrain-ndcg@50:0.712771\ttrain-ndcg@100:0.717113\ttest-ndcg@1:0.501816\ttest-ndcg@5:0.622497\ttest-ndcg@10:0.657548\ttest-ndcg@20:0.678719\ttest-ndcg@50:0.692753\ttest-ndcg@100:0.69727\n",
      "[26]\ttrain-ndcg@1:0.539324\ttrain-ndcg@5:0.651157\ttrain-ndcg@10:0.683398\ttrain-ndcg@20:0.702457\ttrain-ndcg@50:0.714534\ttrain-ndcg@100:0.718909\ttest-ndcg@1:0.503632\ttest-ndcg@5:0.626243\ttest-ndcg@10:0.659989\ttest-ndcg@20:0.680704\ttest-ndcg@50:0.694832\ttest-ndcg@100:0.699049\n",
      "[27]\ttrain-ndcg@1:0.540991\ttrain-ndcg@5:0.652101\ttrain-ndcg@10:0.684339\ttrain-ndcg@20:0.703256\ttrain-ndcg@50:0.715513\ttrain-ndcg@100:0.719658\ttest-ndcg@1:0.503632\ttest-ndcg@5:0.625608\ttest-ndcg@10:0.659878\ttest-ndcg@20:0.680632\ttest-ndcg@50:0.694876\ttest-ndcg@100:0.699034\n",
      "[28]\ttrain-ndcg@1:0.540536\ttrain-ndcg@5:0.652311\ttrain-ndcg@10:0.684295\ttrain-ndcg@20:0.703389\ttrain-ndcg@50:0.715539\ttrain-ndcg@100:0.719831\ttest-ndcg@1:0.504237\ttest-ndcg@5:0.624431\ttest-ndcg@10:0.659671\ttest-ndcg@20:0.680239\ttest-ndcg@50:0.694132\ttest-ndcg@100:0.698453\n",
      "[29]\ttrain-ndcg@1:0.543719\ttrain-ndcg@5:0.655778\ttrain-ndcg@10:0.687686\ttrain-ndcg@20:0.706378\ttrain-ndcg@50:0.718156\ttrain-ndcg@100:0.722374\ttest-ndcg@1:0.506053\ttest-ndcg@5:0.627171\ttest-ndcg@10:0.662085\ttest-ndcg@20:0.682723\ttest-ndcg@50:0.696723\ttest-ndcg@100:0.700658\n",
      "[30]\ttrain-ndcg@1:0.54675\ttrain-ndcg@5:0.658556\ttrain-ndcg@10:0.689919\ttrain-ndcg@20:0.708591\ttrain-ndcg@50:0.720346\ttrain-ndcg@100:0.724497\ttest-ndcg@1:0.507869\ttest-ndcg@5:0.629411\ttest-ndcg@10:0.664137\ttest-ndcg@20:0.684716\ttest-ndcg@50:0.698699\ttest-ndcg@100:0.702711\n"
     ]
    },
    {
     "name": "stdout",
     "output_type": "stream",
     "text": [
      "[31]\ttrain-ndcg@1:0.547962\ttrain-ndcg@5:0.659916\ttrain-ndcg@10:0.691172\ttrain-ndcg@20:0.709418\ttrain-ndcg@50:0.721413\ttrain-ndcg@100:0.725442\ttest-ndcg@1:0.515738\ttest-ndcg@5:0.633811\ttest-ndcg@10:0.667635\ttest-ndcg@20:0.688065\ttest-ndcg@50:0.701973\ttest-ndcg@100:0.706191\n",
      "[32]\ttrain-ndcg@1:0.550841\ttrain-ndcg@5:0.661849\ttrain-ndcg@10:0.692751\ttrain-ndcg@20:0.711409\ttrain-ndcg@50:0.723036\ttrain-ndcg@100:0.727064\ttest-ndcg@1:0.513923\ttest-ndcg@5:0.633721\ttest-ndcg@10:0.667347\ttest-ndcg@20:0.688183\ttest-ndcg@50:0.701587\ttest-ndcg@100:0.705677\n",
      "[33]\ttrain-ndcg@1:0.551296\ttrain-ndcg@5:0.661944\ttrain-ndcg@10:0.693228\ttrain-ndcg@20:0.712183\ttrain-ndcg@50:0.723594\ttrain-ndcg@100:0.727647\ttest-ndcg@1:0.514528\ttest-ndcg@5:0.635132\ttest-ndcg@10:0.668544\ttest-ndcg@20:0.689474\ttest-ndcg@50:0.703092\ttest-ndcg@100:0.707243\n",
      "[34]\ttrain-ndcg@1:0.552963\ttrain-ndcg@5:0.662866\ttrain-ndcg@10:0.694439\ttrain-ndcg@20:0.713158\ttrain-ndcg@50:0.724537\ttrain-ndcg@100:0.72855\ttest-ndcg@1:0.518765\ttest-ndcg@5:0.636874\ttest-ndcg@10:0.670649\ttest-ndcg@20:0.691069\ttest-ndcg@50:0.704986\ttest-ndcg@100:0.708944\n",
      "[35]\ttrain-ndcg@1:0.554781\ttrain-ndcg@5:0.665573\ttrain-ndcg@10:0.696667\ttrain-ndcg@20:0.715306\ttrain-ndcg@50:0.726392\ttrain-ndcg@100:0.730429\ttest-ndcg@1:0.523002\ttest-ndcg@5:0.639939\ttest-ndcg@10:0.673745\ttest-ndcg@20:0.693796\ttest-ndcg@50:0.707947\ttest-ndcg@100:0.711833\n",
      "[36]\ttrain-ndcg@1:0.557206\ttrain-ndcg@5:0.667973\ttrain-ndcg@10:0.698806\ttrain-ndcg@20:0.717331\ttrain-ndcg@50:0.728526\ttrain-ndcg@100:0.732407\ttest-ndcg@1:0.523608\ttest-ndcg@5:0.640415\ttest-ndcg@10:0.674334\ttest-ndcg@20:0.694145\ttest-ndcg@50:0.708297\ttest-ndcg@100:0.712183\n",
      "[37]\ttrain-ndcg@1:0.559479\ttrain-ndcg@5:0.669845\ttrain-ndcg@10:0.700476\ttrain-ndcg@20:0.718669\ttrain-ndcg@50:0.729958\ttrain-ndcg@100:0.733773\ttest-ndcg@1:0.524213\ttest-ndcg@5:0.641869\ttest-ndcg@10:0.676008\ttest-ndcg@20:0.695714\ttest-ndcg@50:0.709514\ttest-ndcg@100:0.713458\n",
      "[38]\ttrain-ndcg@1:0.559782\ttrain-ndcg@5:0.670629\ttrain-ndcg@10:0.701681\ttrain-ndcg@20:0.719682\ttrain-ndcg@50:0.730868\ttrain-ndcg@100:0.734624\ttest-ndcg@1:0.526029\ttest-ndcg@5:0.64475\ttest-ndcg@10:0.678684\ttest-ndcg@20:0.698506\ttest-ndcg@50:0.712032\ttest-ndcg@100:0.715985\n",
      "[39]\ttrain-ndcg@1:0.560388\ttrain-ndcg@5:0.671621\ttrain-ndcg@10:0.702647\ttrain-ndcg@20:0.720428\ttrain-ndcg@50:0.731666\ttrain-ndcg@100:0.735337\ttest-ndcg@1:0.52724\ttest-ndcg@5:0.644984\ttest-ndcg@10:0.679186\ttest-ndcg@20:0.698991\ttest-ndcg@50:0.712568\ttest-ndcg@100:0.716619\n",
      "[40]\ttrain-ndcg@1:0.560994\ttrain-ndcg@5:0.672947\ttrain-ndcg@10:0.70377\ttrain-ndcg@20:0.721322\ttrain-ndcg@50:0.732582\ttrain-ndcg@100:0.736126\ttest-ndcg@1:0.529056\ttest-ndcg@5:0.647542\ttest-ndcg@10:0.681427\ttest-ndcg@20:0.700722\ttest-ndcg@50:0.714184\ttest-ndcg@100:0.718139\n",
      "[41]\ttrain-ndcg@1:0.561146\ttrain-ndcg@5:0.673905\ttrain-ndcg@10:0.704158\ttrain-ndcg@20:0.722021\ttrain-ndcg@50:0.73301\ttrain-ndcg@100:0.736607\ttest-ndcg@1:0.530266\ttest-ndcg@5:0.648442\ttest-ndcg@10:0.681287\ttest-ndcg@20:0.701146\ttest-ndcg@50:0.714715\ttest-ndcg@100:0.718509\n",
      "[42]\ttrain-ndcg@1:0.563873\ttrain-ndcg@5:0.675362\ttrain-ndcg@10:0.706021\ttrain-ndcg@20:0.723468\ttrain-ndcg@50:0.734592\ttrain-ndcg@100:0.738158\ttest-ndcg@1:0.530872\ttest-ndcg@5:0.648745\ttest-ndcg@10:0.682924\ttest-ndcg@20:0.702231\ttest-ndcg@50:0.716067\ttest-ndcg@100:0.719942\n",
      "[43]\ttrain-ndcg@1:0.565389\ttrain-ndcg@5:0.675959\ttrain-ndcg@10:0.706888\ttrain-ndcg@20:0.724281\ttrain-ndcg@50:0.735364\ttrain-ndcg@100:0.738857\ttest-ndcg@1:0.530266\ttest-ndcg@5:0.64855\ttest-ndcg@10:0.682609\ttest-ndcg@20:0.70217\ttest-ndcg@50:0.715691\ttest-ndcg@100:0.719467\n",
      "[44]\ttrain-ndcg@1:0.566298\ttrain-ndcg@5:0.677641\ttrain-ndcg@10:0.708276\ttrain-ndcg@20:0.725418\ttrain-ndcg@50:0.736412\ttrain-ndcg@100:0.739905\ttest-ndcg@1:0.531477\ttest-ndcg@5:0.649999\ttest-ndcg@10:0.683752\ttest-ndcg@20:0.70324\ttest-ndcg@50:0.716527\ttest-ndcg@100:0.720725\n",
      "[45]\ttrain-ndcg@1:0.566753\ttrain-ndcg@5:0.677637\ttrain-ndcg@10:0.708511\ttrain-ndcg@20:0.72582\ttrain-ndcg@50:0.736938\ttrain-ndcg@100:0.740273\ttest-ndcg@1:0.532082\ttest-ndcg@5:0.648678\ttest-ndcg@10:0.683561\ttest-ndcg@20:0.703635\ttest-ndcg@50:0.716751\ttest-ndcg@100:0.720659\n",
      "[46]\ttrain-ndcg@1:0.567965\ttrain-ndcg@5:0.679195\ttrain-ndcg@10:0.709545\ttrain-ndcg@20:0.72697\ttrain-ndcg@50:0.73787\ttrain-ndcg@100:0.741264\ttest-ndcg@1:0.533898\ttest-ndcg@5:0.650365\ttest-ndcg@10:0.685532\ttest-ndcg@20:0.704925\ttest-ndcg@50:0.718295\ttest-ndcg@100:0.722041\n",
      "[47]\ttrain-ndcg@1:0.569632\ttrain-ndcg@5:0.681223\ttrain-ndcg@10:0.711241\ttrain-ndcg@20:0.728419\ttrain-ndcg@50:0.73921\ttrain-ndcg@100:0.742615\ttest-ndcg@1:0.533293\ttest-ndcg@5:0.650934\ttest-ndcg@10:0.685431\ttest-ndcg@20:0.705016\ttest-ndcg@50:0.718315\ttest-ndcg@100:0.721961\n",
      "[48]\ttrain-ndcg@1:0.569632\ttrain-ndcg@5:0.68212\ttrain-ndcg@10:0.711741\ttrain-ndcg@20:0.728797\ttrain-ndcg@50:0.739686\ttrain-ndcg@100:0.743036\ttest-ndcg@1:0.535109\ttest-ndcg@5:0.6529\ttest-ndcg@10:0.686706\ttest-ndcg@20:0.706581\ttest-ndcg@50:0.719513\ttest-ndcg@100:0.723078\n",
      "[49]\ttrain-ndcg@1:0.569935\ttrain-ndcg@5:0.683281\ttrain-ndcg@10:0.712986\ttrain-ndcg@20:0.729516\ttrain-ndcg@50:0.740336\ttrain-ndcg@100:0.74361\ttest-ndcg@1:0.535109\ttest-ndcg@5:0.65397\ttest-ndcg@10:0.687272\ttest-ndcg@20:0.707031\ttest-ndcg@50:0.719948\ttest-ndcg@100:0.723608\n"
     ]
    },
    {
     "data": {
      "text/plain": [
       "<matplotlib.axes._subplots.AxesSubplot at 0x106220438>"
      ]
     },
     "execution_count": 5,
     "metadata": {},
     "output_type": "execute_result"
    },
    {
     "data": {
      "image/png": "[encoded data removed]",
      "text/plain": [
       "<Figure size 432x288 with 1 Axes>"
      ]
     },
     "metadata": {
      "needs_background": "light"
     },
     "output_type": "display_data"
    },
    {
     "data": {
      "image/png": "[encoded data removed]",
      "text/plain": [
       "<Figure size 432x288 with 1 Axes>"
      ]
     },
     "metadata": {
      "needs_background": "light"
     },
     "output_type": "display_data"
    }
   ],
   "source": [
    "params = {'objective': 'rank:pairwise', 'learning_rate': 0.1,'gamma': 1.0, 'min_child_weight': 0.1,\n",
    "          'max_depth': 4, 'n_estimators': 10}\n",
    "\n",
    "# setting model evaluation metrics\n",
    "\n",
    "params['eval_metric'] = ['ndcg@1','ndcg@5','ndcg@10','ndcg@20','ndcg@50','ndcg@100']\n",
    "\n",
    "evallist = [ (train, 'train'), (test, 'test') ]\n",
    "\n",
    "#training the model\n",
    "\n",
    "num_round = 50\n",
    "bst = xgb.train(params, train, num_round, evallist)\n",
    "\n",
    "\n",
    "#passing feature indications as input to model via a text file with explained variable type\n",
    "model = bst.get_dump(fmap='/Users/apple/Downloads/featmap15-5.txt', dump_format='json') \n",
    "\n",
    "#saving model \n",
    "bst.save_model('00055-8400.model')\n",
    "\n",
    "#testing model\n",
    "ypred = bst.predict(test)\n",
    "\n",
    "\n",
    "#plotting the importance and trees\n",
    "xgb.plot_importance(bst)\n",
    "\n",
    "xgb.plot_tree(bst, num_trees= 5)\n",
    "\n",
    "#putting data dump in output for json elastic format\n",
    "with open('/Users/apple/Downloads/xgb-model-55-8400.json', 'w') as output:\n",
    "    output.write('[' + ','.join(list(model)) + ']')\n",
    "    output.close()"
   ]
  },
  {
   "cell_type": "code",
   "execution_count": null,
   "metadata": {},
   "outputs": [],
   "source": []
  },
  {
   "cell_type": "code",
   "execution_count": null,
   "metadata": {},
   "outputs": [],
   "source": []
  }
 ],
 "metadata": {
  "kernelspec": {
   "display_name": "Python 3",
   "language": "python",
   "name": "python3"
  },
  "language_info": {
   "codemirror_mode": {
    "name": "ipython",
    "version": 3
   },
   "file_extension": ".py",
   "mimetype": "text/x-python",
   "name": "python",
   "nbconvert_exporter": "python",
   "pygments_lexer": "ipython3",
   "version": "3.7.1"
  }
 },
 "nbformat": 4,
 "nbformat_minor": 2
}
